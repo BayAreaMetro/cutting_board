{
 "cells": [
  {
   "cell_type": "code",
   "execution_count": 21,
   "metadata": {},
   "outputs": [],
   "source": [
    "import pandas as pd\n",
    "from census import Census\n",
    "c = Census(\"f70721eba51f14bac9808503e8261b3be5884396\")"
   ]
  },
  {
   "cell_type": "code",
   "execution_count": 30,
   "metadata": {},
   "outputs": [
    {
     "data": {
      "text/html": [
       "<div>\n",
       "<style>\n",
       "    .dataframe thead tr:only-child th {\n",
       "        text-align: right;\n",
       "    }\n",
       "\n",
       "    .dataframe thead th {\n",
       "        text-align: left;\n",
       "    }\n",
       "\n",
       "    .dataframe tbody tr th {\n",
       "        vertical-align: top;\n",
       "    }\n",
       "</style>\n",
       "<table border=\"1\" class=\"dataframe\">\n",
       "  <thead>\n",
       "    <tr style=\"text-align: right;\">\n",
       "      <th></th>\n",
       "      <th>STATEFP10</th>\n",
       "      <th>COUNTYFP10</th>\n",
       "      <th>TRACTCE10</th>\n",
       "      <th>BLOCKCE10</th>\n",
       "      <th>GEOID10</th>\n",
       "      <th>MAZ_ORIGINAL</th>\n",
       "      <th>TAZ_ORIGINAL</th>\n",
       "    </tr>\n",
       "  </thead>\n",
       "  <tbody>\n",
       "    <tr>\n",
       "      <th>0</th>\n",
       "      <td>6</td>\n",
       "      <td>1</td>\n",
       "      <td>410000</td>\n",
       "      <td>2024</td>\n",
       "      <td>060014100002024</td>\n",
       "      <td>317525</td>\n",
       "      <td>300204</td>\n",
       "    </tr>\n",
       "    <tr>\n",
       "      <th>1</th>\n",
       "      <td>6</td>\n",
       "      <td>1</td>\n",
       "      <td>407300</td>\n",
       "      <td>2017</td>\n",
       "      <td>060014073002017</td>\n",
       "      <td>317595</td>\n",
       "      <td>300816</td>\n",
       "    </tr>\n",
       "    <tr>\n",
       "      <th>2</th>\n",
       "      <td>6</td>\n",
       "      <td>1</td>\n",
       "      <td>408100</td>\n",
       "      <td>2011</td>\n",
       "      <td>060014081002011</td>\n",
       "      <td>332912</td>\n",
       "      <td>300839</td>\n",
       "    </tr>\n",
       "    <tr>\n",
       "      <th>3</th>\n",
       "      <td>6</td>\n",
       "      <td>1</td>\n",
       "      <td>401000</td>\n",
       "      <td>2002</td>\n",
       "      <td>060014010002002</td>\n",
       "      <td>310004</td>\n",
       "      <td>300716</td>\n",
       "    </tr>\n",
       "    <tr>\n",
       "      <th>4</th>\n",
       "      <td>6</td>\n",
       "      <td>1</td>\n",
       "      <td>406100</td>\n",
       "      <td>1005</td>\n",
       "      <td>060014061001005</td>\n",
       "      <td>312269</td>\n",
       "      <td>301016</td>\n",
       "    </tr>\n",
       "  </tbody>\n",
       "</table>\n",
       "</div>"
      ],
      "text/plain": [
       "   STATEFP10  COUNTYFP10  TRACTCE10  BLOCKCE10          GEOID10  MAZ_ORIGINAL  \\\n",
       "0          6           1     410000       2024  060014100002024        317525   \n",
       "1          6           1     407300       2017  060014073002017        317595   \n",
       "2          6           1     408100       2011  060014081002011        332912   \n",
       "3          6           1     401000       2002  060014010002002        310004   \n",
       "4          6           1     406100       1005  060014061001005        312269   \n",
       "\n",
       "   TAZ_ORIGINAL  \n",
       "0        300204  \n",
       "1        300816  \n",
       "2        300839  \n",
       "3        300716  \n",
       "4        301016  "
      ]
     },
     "execution_count": 30,
     "metadata": {},
     "output_type": "execute_result"
    }
   ],
   "source": [
    "xwalk = pd.read_csv(\"GeogXWalk2010_Blocks_MAZ_TAZ.csv\", dtype={'GEOID10': 'string'})\n",
    "xwalk.head()"
   ]
  },
  {
   "cell_type": "code",
   "execution_count": 47,
   "metadata": {},
   "outputs": [
    {
     "data": {
      "text/plain": [
       "1396.0"
      ]
     },
     "execution_count": 47,
     "metadata": {},
     "output_type": "execute_result"
    }
   ],
   "source": [
    "df = pd.DataFrame().from_dict(\n",
    "    c.sf1.get('H00010001', geo={'for': 'block:*',\n",
    "              'in': 'state:06 county:001 tract:400100'}))\n",
    "df[\"fips\"] = df.state + df.county + df.tract + df.block\n",
    "df.rename(columns={'H00010001': 'Housing Units'}, inplace=True)\n",
    "df['Housing Units'].astype('float').sum()"
   ]
  },
  {
   "cell_type": "code",
   "execution_count": null,
   "metadata": {
    "collapsed": true
   },
   "outputs": [],
   "source": []
  }
 ],
 "metadata": {
  "kernelspec": {
   "display_name": "Python 2",
   "language": "python",
   "name": "python2"
  },
  "language_info": {
   "codemirror_mode": {
    "name": "ipython",
    "version": 2
   },
   "file_extension": ".py",
   "mimetype": "text/x-python",
   "name": "python",
   "nbconvert_exporter": "python",
   "pygments_lexer": "ipython2",
   "version": "2.7.13"
  }
 },
 "nbformat": 4,
 "nbformat_minor": 2
}
